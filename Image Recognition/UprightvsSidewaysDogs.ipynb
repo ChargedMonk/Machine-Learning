{
  "nbformat": 4,
  "nbformat_minor": 0,
  "metadata": {
    "colab": {
      "name": "Untitled6.ipynb",
      "version": "0.3.2",
      "provenance": []
    },
    "kernelspec": {
      "name": "python3",
      "display_name": "Python 3"
    },
    "accelerator": "GPU"
  },
  "cells": [
    {
      "cell_type": "code",
      "metadata": {
        "id": "q96rVpjWS1nC",
        "colab_type": "code",
        "outputId": "48458920-f82d-4b3f-d22b-689a0563377b",
        "colab": {
          "base_uri": "https://localhost:8080/",
          "height": 6970
        }
      },
      "source": [
        "!unzip dogs-gone-sideways.zip"
      ],
      "execution_count": 0,
      "outputs": [
        {
          "output_type": "stream",
          "text": [
            "Archive:  dogs-gone-sideways.zip\n",
            "   creating: dogs-gone-sideways/\n",
            "   creating: dogs-gone-sideways/images/\n",
            "   creating: dogs-gone-sideways/images/val/\n",
            "   creating: dogs-gone-sideways/images/val/sideways/\n",
            "  inflating: dogs-gone-sideways/images/val/sideways/dog.9186.jpg  \n",
            "  inflating: dogs-gone-sideways/images/val/sideways/dog.8737.jpg  \n",
            "  inflating: dogs-gone-sideways/images/val/sideways/dog.8190.jpg  \n",
            "  inflating: dogs-gone-sideways/images/val/sideways/dog.761.jpg  \n",
            "  inflating: dogs-gone-sideways/images/val/sideways/dog.8154.jpg  \n",
            "  inflating: dogs-gone-sideways/images/val/sideways/dog.11120.jpg  \n",
            "  inflating: dogs-gone-sideways/images/val/sideways/dog.7376.jpg  \n",
            "  inflating: dogs-gone-sideways/images/val/sideways/dog.8293.jpg  \n",
            "  inflating: dogs-gone-sideways/images/val/sideways/dog.831.jpg  \n",
            "  inflating: dogs-gone-sideways/images/val/sideways/dog.8756.jpg  \n",
            "  inflating: dogs-gone-sideways/images/val/sideways/dog.8024.jpg  \n",
            "  inflating: dogs-gone-sideways/images/val/sideways/dog.8478.jpg  \n",
            "  inflating: dogs-gone-sideways/images/val/sideways/dog.8809.jpg  \n",
            "  inflating: dogs-gone-sideways/images/val/sideways/dog.9486.jpg  \n",
            "  inflating: dogs-gone-sideways/images/val/sideways/dog.906.jpg  \n",
            "  inflating: dogs-gone-sideways/images/val/sideways/dog.9619.jpg  \n",
            "  inflating: dogs-gone-sideways/images/val/sideways/dog.8871.jpg  \n",
            "  inflating: dogs-gone-sideways/images/val/sideways/dog.837.jpg  \n",
            "  inflating: dogs-gone-sideways/images/val/sideways/dog.7776.jpg  \n",
            "  inflating: dogs-gone-sideways/images/val/sideways/dog.9464.jpg  \n",
            "  inflating: dogs-gone-sideways/images/val/sideways/dog.8330.jpg  \n",
            "  inflating: dogs-gone-sideways/images/val/sideways/dog.8517.jpg  \n",
            "  inflating: dogs-gone-sideways/images/val/sideways/dog.8851.jpg  \n",
            "  inflating: dogs-gone-sideways/images/val/sideways/dog.7556.jpg  \n",
            "  inflating: dogs-gone-sideways/images/val/sideways/dog.8917.jpg  \n",
            "  inflating: dogs-gone-sideways/images/val/sideways/dog.8611.jpg  \n",
            "  inflating: dogs-gone-sideways/images/val/sideways/dog.8128.jpg  \n",
            "  inflating: dogs-gone-sideways/images/val/sideways/dog.1113.jpg  \n",
            "  inflating: dogs-gone-sideways/images/val/sideways/dog.8368.jpg  \n",
            "  inflating: dogs-gone-sideways/images/val/sideways/dog.7826.jpg  \n",
            "  inflating: dogs-gone-sideways/images/val/sideways/dog.8420.jpg  \n",
            "  inflating: dogs-gone-sideways/images/val/sideways/dog.9269.jpg  \n",
            "  inflating: dogs-gone-sideways/images/val/sideways/dog.11139.jpg  \n",
            "  inflating: dogs-gone-sideways/images/val/sideways/dog.8056.jpg  \n",
            "  inflating: dogs-gone-sideways/images/val/sideways/dog.894.jpg  \n",
            "  inflating: dogs-gone-sideways/images/val/sideways/dog.804.jpg  \n",
            "  inflating: dogs-gone-sideways/images/val/sideways/dog.8550.jpg  \n",
            "  inflating: dogs-gone-sideways/images/val/sideways/dog.8175.jpg  \n",
            "  inflating: dogs-gone-sideways/images/val/sideways/dog.7936.jpg  \n",
            "  inflating: dogs-gone-sideways/images/val/sideways/dog.8683.jpg  \n",
            "  inflating: dogs-gone-sideways/images/val/sideways/dog.7694.jpg  \n",
            "  inflating: dogs-gone-sideways/images/val/sideways/dog.8867.jpg  \n",
            "  inflating: dogs-gone-sideways/images/val/sideways/dog.8009.jpg  \n",
            "  inflating: dogs-gone-sideways/images/val/sideways/dog.8104.jpg  \n",
            "  inflating: dogs-gone-sideways/images/val/sideways/dog.8636.jpg  \n",
            "  inflating: dogs-gone-sideways/images/val/sideways/dog.840.jpg  \n",
            "  inflating: dogs-gone-sideways/images/val/sideways/dog.8724.jpg  \n",
            "  inflating: dogs-gone-sideways/images/val/sideways/dog.8595.jpg  \n",
            "  inflating: dogs-gone-sideways/images/val/sideways/dog.8206.jpg  \n",
            "  inflating: dogs-gone-sideways/images/val/sideways/dog.8.jpg  \n",
            "  inflating: dogs-gone-sideways/images/val/sideways/dog.8589.jpg  \n",
            "  inflating: dogs-gone-sideways/images/val/sideways/dog.8936.jpg  \n",
            "  inflating: dogs-gone-sideways/images/val/sideways/dog.857.jpg  \n",
            "  inflating: dogs-gone-sideways/images/val/sideways/dog.8461.jpg  \n",
            "  inflating: dogs-gone-sideways/images/val/sideways/dog.8892.jpg  \n",
            "  inflating: dogs-gone-sideways/images/val/sideways/dog.8907.jpg  \n",
            "  inflating: dogs-gone-sideways/images/val/sideways/dog.8672.jpg  \n",
            "  inflating: dogs-gone-sideways/images/val/sideways/dog.8797.jpg  \n",
            "  inflating: dogs-gone-sideways/images/val/sideways/dog.8542.jpg  \n",
            "  inflating: dogs-gone-sideways/images/val/sideways/dog.8055.jpg  \n",
            "  inflating: dogs-gone-sideways/images/val/sideways/dog.11175.jpg  \n",
            "  inflating: dogs-gone-sideways/images/val/sideways/dog.7689.jpg  \n",
            "  inflating: dogs-gone-sideways/images/val/sideways/dog.8981.jpg  \n",
            "  inflating: dogs-gone-sideways/images/val/sideways/dog.838.jpg  \n",
            "  inflating: dogs-gone-sideways/images/val/sideways/dog.893.jpg  \n",
            "  inflating: dogs-gone-sideways/images/val/sideways/dog.8781.jpg  \n",
            "  inflating: dogs-gone-sideways/images/val/sideways/dog.8955.jpg  \n",
            "  inflating: dogs-gone-sideways/images/val/sideways/dog.8286.jpg  \n",
            "  inflating: dogs-gone-sideways/images/val/sideways/dog.7656.jpg  \n",
            "  inflating: dogs-gone-sideways/images/val/sideways/dog.8528.jpg  \n",
            "  inflating: dogs-gone-sideways/images/val/sideways/dog.8967.jpg  \n",
            "  inflating: dogs-gone-sideways/images/val/sideways/dog.8252.jpg  \n",
            "  inflating: dogs-gone-sideways/images/val/sideways/dog.8663.jpg  \n",
            "  inflating: dogs-gone-sideways/images/val/sideways/dog.8693.jpg  \n",
            "  inflating: dogs-gone-sideways/images/val/sideways/dog.822.jpg  \n",
            "  inflating: dogs-gone-sideways/images/val/sideways/dog.8119.jpg  \n",
            "  inflating: dogs-gone-sideways/images/val/sideways/dog.8343.jpg  \n",
            "  inflating: dogs-gone-sideways/images/val/sideways/dog.9111.jpg  \n",
            "  inflating: dogs-gone-sideways/images/val/sideways/dog.8758.jpg  \n",
            "  inflating: dogs-gone-sideways/images/val/sideways/dog.8440.jpg  \n",
            "  inflating: dogs-gone-sideways/images/val/sideways/dog.8820.jpg  \n",
            "  inflating: dogs-gone-sideways/images/val/sideways/dog.7756.jpg  \n",
            "  inflating: dogs-gone-sideways/images/val/sideways/dog.8711.jpg  \n",
            "  inflating: dogs-gone-sideways/images/val/sideways/dog.11162.jpg  \n",
            "  inflating: dogs-gone-sideways/images/val/sideways/dog.7603.jpg  \n",
            "  inflating: dogs-gone-sideways/images/val/sideways/dog.7266.jpg  \n",
            "  inflating: dogs-gone-sideways/images/val/sideways/dog.9368.jpg  \n",
            "  inflating: dogs-gone-sideways/images/val/sideways/dog.7630.jpg  \n",
            "  inflating: dogs-gone-sideways/images/val/sideways/dog.8486.jpg  \n",
            "  inflating: dogs-gone-sideways/images/val/sideways/dog.82.jpg  \n",
            "  inflating: dogs-gone-sideways/images/val/sideways/dog.7968.jpg  \n",
            "  inflating: dogs-gone-sideways/images/val/sideways/dog.8239.jpg  \n",
            "  inflating: dogs-gone-sideways/images/val/sideways/dog.8769.jpg  \n",
            "  inflating: dogs-gone-sideways/images/val/sideways/dog.8144.jpg  \n",
            "  inflating: dogs-gone-sideways/images/val/sideways/dog.8136.jpg  \n",
            "  inflating: dogs-gone-sideways/images/val/sideways/dog.8502.jpg  \n",
            "  inflating: dogs-gone-sideways/images/val/sideways/dog.8090.jpg  \n",
            "  inflating: dogs-gone-sideways/images/val/sideways/dog.5111.jpg  \n",
            "  inflating: dogs-gone-sideways/images/val/sideways/dog.8564.jpg  \n",
            "  inflating: dogs-gone-sideways/images/val/sideways/dog.8047.jpg  \n",
            "   creating: dogs-gone-sideways/images/val/upright/\n",
            "  inflating: dogs-gone-sideways/images/val/upright/dog.9169.jpg  \n",
            "  inflating: dogs-gone-sideways/images/val/upright/dog.8375.jpg  \n",
            "  inflating: dogs-gone-sideways/images/val/upright/dog.9265.jpg  \n",
            "  inflating: dogs-gone-sideways/images/val/upright/dog.8524.jpg  \n",
            "  inflating: dogs-gone-sideways/images/val/upright/dog.8275.jpg  \n",
            "  inflating: dogs-gone-sideways/images/val/upright/dog.8189.jpg  \n",
            "  inflating: dogs-gone-sideways/images/val/upright/dog.8656.jpg  \n",
            "  inflating: dogs-gone-sideways/images/val/upright/dog.8456.jpg  \n",
            "  inflating: dogs-gone-sideways/images/val/upright/dog.7769.jpg  \n",
            "  inflating: dogs-gone-sideways/images/val/upright/dog.8366.jpg  \n",
            "  inflating: dogs-gone-sideways/images/val/upright/dog.8124.jpg  \n",
            "  inflating: dogs-gone-sideways/images/val/upright/dog.8291.jpg  \n",
            "  inflating: dogs-gone-sideways/images/val/upright/dog.8051.jpg  \n",
            "  inflating: dogs-gone-sideways/images/val/upright/dog.8934.jpg  \n",
            "  inflating: dogs-gone-sideways/images/val/upright/dog.8019.jpg  \n",
            "  inflating: dogs-gone-sideways/images/val/upright/dog.8266.jpg  \n",
            "  inflating: dogs-gone-sideways/images/val/upright/dog.8106.jpg  \n",
            "  inflating: dogs-gone-sideways/images/val/upright/dog.7688.jpg  \n",
            "  inflating: dogs-gone-sideways/images/val/upright/dog.8735.jpg  \n",
            "  inflating: dogs-gone-sideways/images/val/upright/dog.7736.jpg  \n",
            "  inflating: dogs-gone-sideways/images/val/upright/dog.8670.jpg  \n",
            "  inflating: dogs-gone-sideways/images/val/upright/dog.7186.jpg  \n",
            "  inflating: dogs-gone-sideways/images/val/upright/dog.8558.jpg  \n",
            "  inflating: dogs-gone-sideways/images/val/upright/dog.8217.jpg  \n",
            "  inflating: dogs-gone-sideways/images/val/upright/dog.8476.jpg  \n",
            "  inflating: dogs-gone-sideways/images/val/upright/dog.8950.jpg  \n",
            "  inflating: dogs-gone-sideways/images/val/upright/dog.8251.jpg  \n",
            "  inflating: dogs-gone-sideways/images/val/upright/dog.9461.jpg  \n",
            "  inflating: dogs-gone-sideways/images/val/upright/dog.8588.jpg  \n",
            "  inflating: dogs-gone-sideways/images/val/upright/dog.878.jpg  \n",
            "  inflating: dogs-gone-sideways/images/val/upright/dog.7368.jpg  \n",
            "  inflating: dogs-gone-sideways/images/val/upright/dog.85.jpg  \n",
            "  inflating: dogs-gone-sideways/images/val/upright/dog.8923.jpg  \n",
            "  inflating: dogs-gone-sideways/images/val/upright/dog.8196.jpg  \n",
            "  inflating: dogs-gone-sideways/images/val/upright/dog.8819.jpg  \n",
            "  inflating: dogs-gone-sideways/images/val/upright/dog.8532.jpg  \n",
            "  inflating: dogs-gone-sideways/images/val/upright/dog.8549.jpg  \n",
            "  inflating: dogs-gone-sideways/images/val/upright/dog.3111.jpg  \n",
            "  inflating: dogs-gone-sideways/images/val/upright/dog.8307.jpg  \n",
            "  inflating: dogs-gone-sideways/images/val/upright/dog.8101.jpg  \n",
            "  inflating: dogs-gone-sideways/images/val/upright/dog.814.jpg  \n",
            "  inflating: dogs-gone-sideways/images/val/upright/dog.11171.jpg  \n",
            "  inflating: dogs-gone-sideways/images/val/upright/dog.815.jpg  \n",
            "  inflating: dogs-gone-sideways/images/val/upright/dog.9650.jpg  \n",
            "  inflating: dogs-gone-sideways/images/val/upright/dog.9360.jpg  \n",
            "  inflating: dogs-gone-sideways/images/val/upright/dog.8591.jpg  \n",
            "  inflating: dogs-gone-sideways/images/val/upright/dog.9036.jpg  \n",
            "  inflating: dogs-gone-sideways/images/val/upright/dog.8963.jpg  \n",
            "  inflating: dogs-gone-sideways/images/val/upright/dog.7655.jpg  \n",
            "  inflating: dogs-gone-sideways/images/val/upright/dog.8477.jpg  \n",
            "  inflating: dogs-gone-sideways/images/val/upright/dog.7629.jpg  \n",
            "  inflating: dogs-gone-sideways/images/val/upright/dog.885.jpg  \n",
            "  inflating: dogs-gone-sideways/images/val/upright/dog.8513.jpg  \n",
            "  inflating: dogs-gone-sideways/images/val/upright/dog.9624.jpg  \n",
            "  inflating: dogs-gone-sideways/images/val/upright/dog.9086.jpg  \n",
            "  inflating: dogs-gone-sideways/images/val/upright/dog.8625.jpg  \n",
            "  inflating: dogs-gone-sideways/images/val/upright/dog.8705.jpg  \n",
            "  inflating: dogs-gone-sideways/images/val/upright/dog.796.jpg  \n",
            "  inflating: dogs-gone-sideways/images/val/upright/dog.7693.jpg  \n",
            "  inflating: dogs-gone-sideways/images/val/upright/dog.8903.jpg  \n",
            "  inflating: dogs-gone-sideways/images/val/upright/dog.7601.jpg  \n",
            "  inflating: dogs-gone-sideways/images/val/upright/dog.8413.jpg  \n",
            "  inflating: dogs-gone-sideways/images/val/upright/dog.8980.jpg  \n",
            "  inflating: dogs-gone-sideways/images/val/upright/dog.8079.jpg  \n",
            "  inflating: dogs-gone-sideways/images/val/upright/dog.11126.jpg  \n",
            "  inflating: dogs-gone-sideways/images/val/upright/dog.8997.jpg  \n",
            "  inflating: dogs-gone-sideways/images/val/upright/dog.8863.jpg  \n",
            "  inflating: dogs-gone-sideways/images/val/upright/dog.7806.jpg  \n",
            "  inflating: dogs-gone-sideways/images/val/upright/dog.8118.jpg  \n",
            "  inflating: dogs-gone-sideways/images/val/upright/dog.11136.jpg  \n",
            "  inflating: dogs-gone-sideways/images/val/upright/dog.9469.jpg  \n",
            "  inflating: dogs-gone-sideways/images/val/upright/dog.8355.jpg  \n",
            "  inflating: dogs-gone-sideways/images/val/upright/dog.8870.jpg  \n",
            "  inflating: dogs-gone-sideways/images/val/upright/dog.8026.jpg  \n",
            "  inflating: dogs-gone-sideways/images/val/upright/dog.8794.jpg  \n",
            "  inflating: dogs-gone-sideways/images/val/upright/dog.11151.jpg  \n",
            "  inflating: dogs-gone-sideways/images/val/upright/dog.8719.jpg  \n",
            "  inflating: dogs-gone-sideways/images/val/upright/dog.8035.jpg  \n",
            "  inflating: dogs-gone-sideways/images/val/upright/dog.8915.jpg  \n",
            "  inflating: dogs-gone-sideways/images/val/upright/dog.8605.jpg  \n",
            "  inflating: dogs-gone-sideways/images/val/upright/dog.7906.jpg  \n",
            "  inflating: dogs-gone-sideways/images/val/upright/dog.8235.jpg  \n",
            "  inflating: dogs-gone-sideways/images/val/upright/dog.8341.jpg  \n",
            "  inflating: dogs-gone-sideways/images/val/upright/dog.8916.jpg  \n",
            "  inflating: dogs-gone-sideways/images/val/upright/dog.7486.jpg  \n",
            "  inflating: dogs-gone-sideways/images/val/upright/dog.9618.jpg  \n",
            "  inflating: dogs-gone-sideways/images/val/upright/dog.7609.jpg  \n",
            "  inflating: dogs-gone-sideways/images/val/upright/dog.8662.jpg  \n",
            "  inflating: dogs-gone-sideways/images/val/upright/dog.8045.jpg  \n",
            "  inflating: dogs-gone-sideways/images/val/upright/dog.8007.jpg  \n",
            "  inflating: dogs-gone-sideways/images/val/upright/dog.9635.jpg  \n",
            "  inflating: dogs-gone-sideways/images/val/upright/dog.8562.jpg  \n",
            "  inflating: dogs-gone-sideways/images/val/upright/dog.8754.jpg  \n",
            "  inflating: dogs-gone-sideways/images/val/upright/dog.8329.jpg  \n",
            "  inflating: dogs-gone-sideways/images/val/upright/dog.8430.jpg  \n",
            "  inflating: dogs-gone-sideways/images/val/upright/dog.8802.jpg  \n",
            "  inflating: dogs-gone-sideways/images/val/upright/dog.8690.jpg  \n",
            "  inflating: dogs-gone-sideways/images/val/upright/dog.8889.jpg  \n",
            "  inflating: dogs-gone-sideways/images/val/upright/dog.11113.jpg  \n",
            "  inflating: dogs-gone-sideways/images/val/upright/dog.8676.jpg  \n",
            "   creating: dogs-gone-sideways/images/train/\n",
            "   creating: dogs-gone-sideways/images/train/sideways/\n",
            "  inflating: dogs-gone-sideways/images/train/sideways/dog.8303.jpg  \n",
            "  inflating: dogs-gone-sideways/images/train/sideways/dog.8703.jpg  \n",
            "  inflating: dogs-gone-sideways/images/train/sideways/dog.8653.jpg  \n",
            "  inflating: dogs-gone-sideways/images/train/sideways/dog.8661.jpg  \n",
            "  inflating: dogs-gone-sideways/images/train/sideways/dog.8862.jpg  \n",
            "  inflating: dogs-gone-sideways/images/train/sideways/dog.8906.jpg  \n",
            "  inflating: dogs-gone-sideways/images/train/sideways/dog.8986.jpg  \n",
            "  inflating: dogs-gone-sideways/images/train/sideways/dog.8578.jpg  \n",
            "  inflating: dogs-gone-sideways/images/train/sideways/dog.8167.jpg  \n",
            "  inflating: dogs-gone-sideways/images/train/sideways/dog.8339.jpg  \n",
            "  inflating: dogs-gone-sideways/images/train/sideways/dog.8912.jpg  \n",
            "  inflating: dogs-gone-sideways/images/train/sideways/dog.9264.jpg  \n",
            "  inflating: dogs-gone-sideways/images/train/sideways/dog.7866.jpg  \n",
            "  inflating: dogs-gone-sideways/images/train/sideways/dog.8180.jpg  \n",
            "  inflating: dogs-gone-sideways/images/train/sideways/dog.896.jpg  \n",
            "  inflating: dogs-gone-sideways/images/train/sideways/dog.8888.jpg  \n",
            "  inflating: dogs-gone-sideways/images/train/sideways/dog.8718.jpg  \n",
            "  inflating: dogs-gone-sideways/images/train/sideways/dog.11124.jpg  \n",
            "  inflating: dogs-gone-sideways/images/train/sideways/dog.9166.jpg  \n",
            "  inflating: dogs-gone-sideways/images/train/sideways/dog.8195.jpg  \n",
            "  inflating: dogs-gone-sideways/images/train/sideways/dog.8325.jpg  \n",
            "  inflating: dogs-gone-sideways/images/train/sideways/dog.8745.jpg  \n",
            "  inflating: dogs-gone-sideways/images/train/sideways/dog.8425.jpg  \n",
            "  inflating: dogs-gone-sideways/images/train/sideways/dog.8510.jpg  \n",
            "  inflating: dogs-gone-sideways/images/train/sideways/dog.9468.jpg  \n",
            "  inflating: dogs-gone-sideways/images/train/sideways/dog.8726.jpg  \n",
            "  inflating: dogs-gone-sideways/images/train/sideways/dog.7699.jpg  \n",
            "  inflating: dogs-gone-sideways/images/train/sideways/dog.7639.jpg  \n",
            "  inflating: dogs-gone-sideways/images/train/sideways/dog.8112.jpg  \n",
            "  inflating: dogs-gone-sideways/images/train/sideways/dog.8078.jpg  \n",
            "  inflating: dogs-gone-sideways/images/train/sideways/dog.8157.jpg  \n",
            "  inflating: dogs-gone-sideways/images/train/sideways/dog.9436.jpg  \n",
            "  inflating: dogs-gone-sideways/images/train/sideways/dog.8520.jpg  \n",
            "  inflating: dogs-gone-sideways/images/train/sideways/dog.8472.jpg  \n",
            "  inflating: dogs-gone-sideways/images/train/sideways/dog.7680.jpg  \n",
            "  inflating: dogs-gone-sideways/images/train/sideways/dog.7691.jpg  \n",
            "  inflating: dogs-gone-sideways/images/train/sideways/dog.8668.jpg  \n",
            "  inflating: dogs-gone-sideways/images/train/sideways/dog.11103.jpg  \n",
            "  inflating: dogs-gone-sideways/images/train/sideways/dog.8469.jpg  \n",
            "  inflating: dogs-gone-sideways/images/train/sideways/dog.8945.jpg  \n",
            "  inflating: dogs-gone-sideways/images/train/sideways/dog.8499.jpg  \n",
            "  inflating: dogs-gone-sideways/images/train/sideways/dog.7622.jpg  \n",
            "  inflating: dogs-gone-sideways/images/train/sideways/dog.8557.jpg  \n",
            "  inflating: dogs-gone-sideways/images/train/sideways/dog.8590.jpg  \n",
            "  inflating: dogs-gone-sideways/images/train/sideways/dog.1119.jpg  \n",
            "  inflating: dogs-gone-sideways/images/train/sideways/dog.8212.jpg  \n",
            "  inflating: dogs-gone-sideways/images/train/sideways/dog.8813.jpg  \n",
            "  inflating: dogs-gone-sideways/images/train/sideways/dog.1115.jpg  \n",
            "  inflating: dogs-gone-sideways/images/train/sideways/dog.8778.jpg  \n",
            "  inflating: dogs-gone-sideways/images/train/sideways/dog.8689.jpg  \n",
            "  inflating: dogs-gone-sideways/images/train/sideways/dog.841.jpg  \n",
            "  inflating: dogs-gone-sideways/images/train/sideways/dog.8030.jpg  \n",
            "  inflating: dogs-gone-sideways/images/train/sideways/dog.8548.jpg  \n",
            "  inflating: dogs-gone-sideways/images/train/sideways/dog.8561.jpg  \n",
            "  inflating: dogs-gone-sideways/images/train/sideways/dog.8933.jpg  \n",
            "  inflating: dogs-gone-sideways/images/train/sideways/dog.8018.jpg  \n",
            "  inflating: dogs-gone-sideways/images/train/sideways/dog.8531.jpg  \n",
            "  inflating: dogs-gone-sideways/images/train/sideways/dog.8785.jpg  \n",
            "  inflating: dogs-gone-sideways/images/train/sideways/dog.8250.jpg  \n",
            "  inflating: dogs-gone-sideways/images/train/sideways/dog.805.jpg  \n",
            "  inflating: dogs-gone-sideways/images/train/sideways/dog.8362.jpg  \n",
            "  inflating: dogs-gone-sideways/images/train/sideways/dog.9614.jpg  \n",
            "  inflating: dogs-gone-sideways/images/train/sideways/dog.7568.jpg  \n",
            "  inflating: dogs-gone-sideways/images/train/sideways/dog.7956.jpg  \n",
            "  inflating: dogs-gone-sideways/images/train/sideways/dog.8345.jpg  \n",
            "  inflating: dogs-gone-sideways/images/train/sideways/dog.7165.jpg  \n",
            "  inflating: dogs-gone-sideways/images/train/sideways/dog.7468.jpg  \n",
            "  inflating: dogs-gone-sideways/images/train/sideways/dog.8620.jpg  \n",
            "  inflating: dogs-gone-sideways/images/train/sideways/dog.11132.jpg  \n",
            "  inflating: dogs-gone-sideways/images/train/sideways/dog.7608.jpg  \n",
            "  inflating: dogs-gone-sideways/images/train/sideways/dog.890.jpg  \n",
            "  inflating: dogs-gone-sideways/images/train/sideways/dog.11169.jpg  \n",
            "  inflating: dogs-gone-sideways/images/train/sideways/dog.9326.jpg  \n",
            "  inflating: dogs-gone-sideways/images/train/sideways/dog.8761.jpg  \n",
            "  inflating: dogs-gone-sideways/images/train/sideways/dog.8098.jpg  \n",
            "  inflating: dogs-gone-sideways/images/train/sideways/dog.8229.jpg  \n",
            "  inflating: dogs-gone-sideways/images/train/sideways/dog.8062.jpg  \n",
            "  inflating: dogs-gone-sideways/images/train/sideways/dog.7796.jpg  \n",
            "  inflating: dogs-gone-sideways/images/train/sideways/dog.8853.jpg  \n",
            "  inflating: dogs-gone-sideways/images/train/sideways/dog.8393.jpg  \n",
            "  inflating: dogs-gone-sideways/images/train/sideways/dog.8371.jpg  \n",
            "  inflating: dogs-gone-sideways/images/train/sideways/dog.8990.jpg  \n",
            "  inflating: dogs-gone-sideways/images/train/sideways/dog.8921.jpg  \n",
            "  inflating: dogs-gone-sideways/images/train/sideways/dog.8003.jpg  \n",
            "  inflating: dogs-gone-sideways/images/train/sideways/dog.8446.jpg  \n",
            "  inflating: dogs-gone-sideways/images/train/sideways/dog.8271.jpg  \n",
            "  inflating: dogs-gone-sideways/images/train/sideways/dog.8596.jpg  \n",
            "  inflating: dogs-gone-sideways/images/train/sideways/dog.8123.jpg  \n",
            "  inflating: dogs-gone-sideways/images/train/sideways/dog.9062.jpg  \n",
            "  inflating: dogs-gone-sideways/images/train/sideways/dog.8800.jpg  \n",
            "  inflating: dogs-gone-sideways/images/train/sideways/dog.7336.jpg  \n",
            "  inflating: dogs-gone-sideways/images/train/sideways/dog.8283.jpg  \n",
            "  inflating: dogs-gone-sideways/images/train/sideways/dog.8977.jpg  \n",
            "  inflating: dogs-gone-sideways/images/train/sideways/dog.8834.jpg  \n",
            "  inflating: dogs-gone-sideways/images/train/sideways/dog.8149.jpg  \n",
            "  inflating: dogs-gone-sideways/images/train/sideways/dog.8044.jpg  \n",
            "  inflating: dogs-gone-sideways/images/train/sideways/dog.7767.jpg  \n",
            "  inflating: dogs-gone-sideways/images/train/sideways/dog.8729.jpg  \n",
            "  inflating: dogs-gone-sideways/images/train/sideways/dog.8261.jpg  \n",
            "  inflating: dogs-gone-sideways/images/train/sideways/dog.8138.jpg  \n",
            "   creating: dogs-gone-sideways/images/train/upright/\n",
            "  inflating: dogs-gone-sideways/images/train/upright/dog.8121.jpg  \n",
            "  inflating: dogs-gone-sideways/images/train/upright/dog.8107.jpg  \n",
            "  inflating: dogs-gone-sideways/images/train/upright/dog.8932.jpg  \n",
            "  inflating: dogs-gone-sideways/images/train/upright/dog.876.jpg  \n",
            "  inflating: dogs-gone-sideways/images/train/upright/dog.8783.jpg  \n",
            "  inflating: dogs-gone-sideways/images/train/upright/dog.7786.jpg  \n",
            "  inflating: dogs-gone-sideways/images/train/upright/dog.8773.jpg  \n",
            "  inflating: dogs-gone-sideways/images/train/upright/dog.8344.jpg  \n",
            "  inflating: dogs-gone-sideways/images/train/upright/dog.8868.jpg  \n",
            "  inflating: dogs-gone-sideways/images/train/upright/dog.8236.jpg  \n",
            "  inflating: dogs-gone-sideways/images/train/upright/dog.8243.jpg  \n",
            "  inflating: dogs-gone-sideways/images/train/upright/dog.11168.jpg  \n",
            "  inflating: dogs-gone-sideways/images/train/upright/dog.8504.jpg  \n",
            "  inflating: dogs-gone-sideways/images/train/upright/dog.8194.jpg  \n",
            "  inflating: dogs-gone-sideways/images/train/upright/dog.803.jpg  \n",
            "  inflating: dogs-gone-sideways/images/train/upright/dog.8660.jpg  \n",
            "  inflating: dogs-gone-sideways/images/train/upright/dog.8221.jpg  \n",
            "  inflating: dogs-gone-sideways/images/train/upright/dog.9369.jpg  \n",
            "  inflating: dogs-gone-sideways/images/train/upright/dog.7986.jpg  \n",
            "  inflating: dogs-gone-sideways/images/train/upright/dog.8130.jpg  \n",
            "  inflating: dogs-gone-sideways/images/train/upright/dog.8988.jpg  \n",
            "  inflating: dogs-gone-sideways/images/train/upright/dog.8697.jpg  \n",
            "  inflating: dogs-gone-sideways/images/train/upright/dog.7056.jpg  \n",
            "  inflating: dogs-gone-sideways/images/train/upright/dog.8824.jpg  \n",
            "  inflating: dogs-gone-sideways/images/train/upright/dog.756.jpg  \n",
            "  inflating: dogs-gone-sideways/images/train/upright/dog.9060.jpg  \n",
            "  inflating: dogs-gone-sideways/images/train/upright/dog.8448.jpg  \n",
            "  inflating: dogs-gone-sideways/images/train/upright/dog.8879.jpg  \n",
            "  inflating: dogs-gone-sideways/images/train/upright/dog.7605.jpg  \n",
            "  inflating: dogs-gone-sideways/images/train/upright/dog.8370.jpg  \n",
            "  inflating: dogs-gone-sideways/images/train/upright/dog.8466.jpg  \n",
            "  inflating: dogs-gone-sideways/images/train/upright/dog.852.jpg  \n",
            "  inflating: dogs-gone-sideways/images/train/upright/dog.8155.jpg  \n",
            "  inflating: dogs-gone-sideways/images/train/upright/dog.8156.jpg  \n",
            "  inflating: dogs-gone-sideways/images/train/upright/dog.9586.jpg  \n",
            "  inflating: dogs-gone-sideways/images/train/upright/dog.8666.jpg  \n",
            "  inflating: dogs-gone-sideways/images/train/upright/dog.9116.jpg  \n",
            "  inflating: dogs-gone-sideways/images/train/upright/dog.8093.jpg  \n",
            "  inflating: dogs-gone-sideways/images/train/upright/dog.818.jpg  \n",
            "  inflating: dogs-gone-sideways/images/train/upright/dog.8899.jpg  \n",
            "  inflating: dogs-gone-sideways/images/train/upright/dog.8638.jpg  \n",
            "  inflating: dogs-gone-sideways/images/train/upright/dog.11144.jpg  \n",
            "  inflating: dogs-gone-sideways/images/train/upright/dog.828.jpg  \n",
            "  inflating: dogs-gone-sideways/images/train/upright/dog.8545.jpg  \n",
            "  inflating: dogs-gone-sideways/images/train/upright/dog.7466.jpg  \n",
            "  inflating: dogs-gone-sideways/images/train/upright/dog.8422.jpg  \n",
            "  inflating: dogs-gone-sideways/images/train/upright/dog.891.jpg  \n",
            "  inflating: dogs-gone-sideways/images/train/upright/dog.821.jpg  \n",
            "  inflating: dogs-gone-sideways/images/train/upright/dog.8058.jpg  \n",
            "  inflating: dogs-gone-sideways/images/train/upright/dog.8333.jpg  \n",
            "  inflating: dogs-gone-sideways/images/train/upright/dog.8516.jpg  \n",
            "  inflating: dogs-gone-sideways/images/train/upright/dog.9256.jpg  \n",
            "  inflating: dogs-gone-sideways/images/train/upright/dog.11102.jpg  \n",
            "  inflating: dogs-gone-sideways/images/train/upright/dog.8956.jpg  \n",
            "  inflating: dogs-gone-sideways/images/train/upright/dog.8553.jpg  \n",
            "  inflating: dogs-gone-sideways/images/train/upright/dog.8612.jpg  \n",
            "  inflating: dogs-gone-sideways/images/train/upright/dog.9628.jpg  \n",
            "  inflating: dogs-gone-sideways/images/train/upright/dog.7663.jpg  \n",
            "  inflating: dogs-gone-sideways/images/train/upright/dog.8061.jpg  \n",
            "  inflating: dogs-gone-sideways/images/train/upright/dog.11123.jpg  \n",
            "  inflating: dogs-gone-sideways/images/train/upright/dog.8012.jpg  \n",
            "  inflating: dogs-gone-sideways/images/train/upright/dog.8356.jpg  \n",
            "  inflating: dogs-gone-sideways/images/train/upright/dog.8401.jpg  \n",
            "  inflating: dogs-gone-sideways/images/train/upright/dog.11130.jpg  \n",
            "  inflating: dogs-gone-sideways/images/train/upright/dog.7863.jpg  \n",
            "  inflating: dogs-gone-sideways/images/train/upright/dog.7946.jpg  \n",
            "  inflating: dogs-gone-sideways/images/train/upright/dog.8436.jpg  \n",
            "  inflating: dogs-gone-sideways/images/train/upright/dog.8487.jpg  \n",
            "  inflating: dogs-gone-sideways/images/train/upright/dog.8942.jpg  \n",
            "  inflating: dogs-gone-sideways/images/train/upright/dog.8048.jpg  \n",
            "  inflating: dogs-gone-sideways/images/train/upright/dog.8294.jpg  \n",
            "  inflating: dogs-gone-sideways/images/train/upright/dog.8712.jpg  \n",
            "  inflating: dogs-gone-sideways/images/train/upright/dog.8598.jpg  \n",
            "  inflating: dogs-gone-sideways/images/train/upright/dog.8001.jpg  \n",
            "  inflating: dogs-gone-sideways/images/train/upright/dog.8318.jpg  \n",
            "  inflating: dogs-gone-sideways/images/train/upright/dog.8673.jpg  \n",
            "  inflating: dogs-gone-sideways/images/train/upright/dog.880.jpg  \n",
            "  inflating: dogs-gone-sideways/images/train/upright/dog.7696.jpg  \n",
            "  inflating: dogs-gone-sideways/images/train/upright/dog.8573.jpg  \n",
            "  inflating: dogs-gone-sideways/images/train/upright/dog.9465.jpg  \n",
            "  inflating: dogs-gone-sideways/images/train/upright/dog.8043.jpg  \n",
            "  inflating: dogs-gone-sideways/images/train/upright/dog.7632.jpg  \n",
            "  inflating: dogs-gone-sideways/images/train/upright/dog.8852.jpg  \n",
            "  inflating: dogs-gone-sideways/images/train/upright/dog.9316.jpg  \n",
            "  inflating: dogs-gone-sideways/images/train/upright/dog.8728.jpg  \n",
            "  inflating: dogs-gone-sideways/images/train/upright/dog.962.jpg  \n",
            "  inflating: dogs-gone-sideways/images/train/upright/dog.8391.jpg  \n",
            "  inflating: dogs-gone-sideways/images/train/upright/dog.7766.jpg  \n",
            "  inflating: dogs-gone-sideways/images/train/upright/dog.8826.jpg  \n",
            "  inflating: dogs-gone-sideways/images/train/upright/dog.8147.jpg  \n",
            "  inflating: dogs-gone-sideways/images/train/upright/dog.7267.jpg  \n",
            "  inflating: dogs-gone-sideways/images/train/upright/dog.8970.jpg  \n",
            "  inflating: dogs-gone-sideways/images/train/upright/dog.8566.jpg  \n",
            "  inflating: dogs-gone-sideways/images/train/upright/dog.769.jpg  \n",
            "  inflating: dogs-gone-sideways/images/train/upright/dog.8743.jpg  \n",
            "  inflating: dogs-gone-sideways/images/train/upright/dog.8811.jpg  \n",
            "  inflating: dogs-gone-sideways/images/train/upright/dog.8918.jpg  \n",
            "  inflating: dogs-gone-sideways/images/train/upright/dog.8254.jpg  \n",
            "  inflating: dogs-gone-sideways/images/train/upright/dog.8530.jpg  \n",
            "  inflating: dogs-gone-sideways/images/train/upright/dog.8976.jpg  \n"
          ],
          "name": "stdout"
        }
      ]
    },
    {
      "cell_type": "code",
      "metadata": {
        "id": "2uu-epZlJ3zi",
        "colab_type": "code",
        "colab": {}
      },
      "source": [
        "from tensorflow.keras.applications import ResNet50"
      ],
      "execution_count": 0,
      "outputs": []
    },
    {
      "cell_type": "code",
      "metadata": {
        "id": "eUySwLRhKG1i",
        "colab_type": "code",
        "colab": {}
      },
      "source": [
        "from tensorflow.keras.models import Sequential"
      ],
      "execution_count": 0,
      "outputs": []
    },
    {
      "cell_type": "code",
      "metadata": {
        "id": "Qxeml-QGKNhP",
        "colab_type": "code",
        "colab": {}
      },
      "source": [
        "from tensorflow.keras.layers import Dense, Flatten, GlobalAveragePooling2D"
      ],
      "execution_count": 0,
      "outputs": []
    },
    {
      "cell_type": "code",
      "metadata": {
        "id": "TZ1M50fqKcjn",
        "colab_type": "code",
        "colab": {}
      },
      "source": [
        "num_classes = 2"
      ],
      "execution_count": 0,
      "outputs": []
    },
    {
      "cell_type": "code",
      "metadata": {
        "id": "lkwyy6YfKelP",
        "colab_type": "code",
        "colab": {}
      },
      "source": [
        "weights_path = 'resnet50_weights_tf_dim_ordering_tf_kernels_notop.h5'"
      ],
      "execution_count": 0,
      "outputs": []
    },
    {
      "cell_type": "code",
      "metadata": {
        "id": "VtJ8TxdHK3Hg",
        "colab_type": "code",
        "colab": {}
      },
      "source": [
        "model = Sequential()"
      ],
      "execution_count": 0,
      "outputs": []
    },
    {
      "cell_type": "code",
      "metadata": {
        "id": "ASxYPsG-LJUL",
        "colab_type": "code",
        "colab": {}
      },
      "source": [
        "model.add(ResNet50(include_top=False,pooling ='avg',weights=weights_path))"
      ],
      "execution_count": 0,
      "outputs": []
    },
    {
      "cell_type": "code",
      "metadata": {
        "id": "5mbHdfEWLgnJ",
        "colab_type": "code",
        "colab": {}
      },
      "source": [
        "model.add(Dense(num_classes,activation='softmax'))"
      ],
      "execution_count": 0,
      "outputs": []
    },
    {
      "cell_type": "code",
      "metadata": {
        "id": "dSogZs04Lr2h",
        "colab_type": "code",
        "colab": {}
      },
      "source": [
        "model.layers[0].trainable = False"
      ],
      "execution_count": 0,
      "outputs": []
    },
    {
      "cell_type": "code",
      "metadata": {
        "id": "8gq0lR6oL5bD",
        "colab_type": "code",
        "colab": {}
      },
      "source": [
        "model.compile(optimizer='sgd',loss='categorical_crossentropy',metrics=['accuracy'])"
      ],
      "execution_count": 0,
      "outputs": []
    },
    {
      "cell_type": "code",
      "metadata": {
        "id": "oD1AUJaVN3dS",
        "colab_type": "code",
        "colab": {}
      },
      "source": [
        "from tensorflow.keras.applications.resnet50 import preprocess_input"
      ],
      "execution_count": 0,
      "outputs": []
    },
    {
      "cell_type": "code",
      "metadata": {
        "id": "j2Uzs03CODyV",
        "colab_type": "code",
        "colab": {}
      },
      "source": [
        "from tensorflow.keras.preprocessing.image import ImageDataGenerator"
      ],
      "execution_count": 0,
      "outputs": []
    },
    {
      "cell_type": "code",
      "metadata": {
        "id": "xUMD9A-KOdMA",
        "colab_type": "code",
        "colab": {}
      },
      "source": [
        "image_size = 224"
      ],
      "execution_count": 0,
      "outputs": []
    },
    {
      "cell_type": "code",
      "metadata": {
        "id": "G_Dnsz90O6VC",
        "colab_type": "code",
        "colab": {}
      },
      "source": [
        "data_generator = ImageDataGenerator(preprocess_input)"
      ],
      "execution_count": 0,
      "outputs": []
    },
    {
      "cell_type": "code",
      "metadata": {
        "id": "uffUGEa1PCcQ",
        "colab_type": "code",
        "outputId": "5677773b-3dd2-45ab-a0cb-fbb071d68532",
        "colab": {
          "base_uri": "https://localhost:8080/",
          "height": 34
        }
      },
      "source": [
        "train_generator = data_generator.flow_from_directory(directory = 'dogs-gone-sideways/images/train',\n",
        "                                                     target_size=(image_size,image_size),batch_size=10,class_mode='categorical')"
      ],
      "execution_count": 0,
      "outputs": [
        {
          "output_type": "stream",
          "text": [
            "Found 200 images belonging to 2 classes.\n"
          ],
          "name": "stdout"
        }
      ]
    },
    {
      "cell_type": "code",
      "metadata": {
        "id": "SHe0-GYdQAdx",
        "colab_type": "code",
        "outputId": "e7aeecd4-3681-4126-a3de-b14da8b710b0",
        "colab": {
          "base_uri": "https://localhost:8080/",
          "height": 34
        }
      },
      "source": [
        "val_generator = data_generator.flow_from_directory(directory = 'dogs-gone-sideways/images/val',\n",
        "                                                     target_size=(image_size,image_size),class_mode='categorical')"
      ],
      "execution_count": 0,
      "outputs": [
        {
          "output_type": "stream",
          "text": [
            "Found 200 images belonging to 2 classes.\n"
          ],
          "name": "stdout"
        }
      ]
    },
    {
      "cell_type": "code",
      "metadata": {
        "id": "C732hpF9QTWZ",
        "colab_type": "code",
        "outputId": "59e3bd3a-de97-4111-ada4-8a0bb2b6dd8a",
        "colab": {
          "base_uri": "https://localhost:8080/",
          "height": 105
        }
      },
      "source": [
        "fit_stats = model.fit_generator(train_generator,steps_per_epoch=20,validation_data=val_generator,validation_steps=1)"
      ],
      "execution_count": 0,
      "outputs": [
        {
          "output_type": "stream",
          "text": [
            "/usr/local/lib/python3.6/dist-packages/keras_preprocessing/image/image_data_generator.py:699: UserWarning: This ImageDataGenerator specifies `featurewise_center`, but it hasn't been fit on any training data. Fit it first by calling `.fit(numpy_data)`.\n",
            "  warnings.warn('This ImageDataGenerator specifies '\n"
          ],
          "name": "stderr"
        },
        {
          "output_type": "stream",
          "text": [
            "7/7 [==============================] - 2s 293ms/step - loss: 0.3371 - acc: 0.8550\n",
            "20/20 [==============================] - 4s 218ms/step - loss: 0.5504 - acc: 0.6950 - val_loss: 0.3371 - val_acc: 0.8550\n"
          ],
          "name": "stdout"
        }
      ]
    },
    {
      "cell_type": "code",
      "metadata": {
        "id": "bwQzUvdYe2ta",
        "colab_type": "code",
        "colab": {}
      },
      "source": [
        "data_generator_with_aug = ImageDataGenerator(preprocessing_function=preprocess_input,horizontal_flip=True,width_shift_range = 0.2,\n",
        "                                             height_shift_range = 0.2)"
      ],
      "execution_count": 0,
      "outputs": []
    },
    {
      "cell_type": "code",
      "metadata": {
        "id": "6PWDTT8Ee9t2",
        "colab_type": "code",
        "outputId": "d40ea777-9dae-49e8-a75a-037d5fd1a551",
        "colab": {
          "base_uri": "https://localhost:8080/",
          "height": 34
        }
      },
      "source": [
        "train_generator = data_generator_with_aug.flow_from_directory(directory = 'dogs-gone-sideways/images/train',\n",
        "                                                     target_size=(image_size,image_size),batch_size=10,class_mode='categorical')"
      ],
      "execution_count": 0,
      "outputs": [
        {
          "output_type": "stream",
          "text": [
            "Found 200 images belonging to 2 classes.\n"
          ],
          "name": "stdout"
        }
      ]
    },
    {
      "cell_type": "code",
      "metadata": {
        "id": "jGHoJuX2fEAC",
        "colab_type": "code",
        "outputId": "0ac9474d-fe06-4275-973f-dc412b3c7af8",
        "colab": {
          "base_uri": "https://localhost:8080/",
          "height": 173
        }
      },
      "source": [
        "fit_stats = model.fit_generator(train_generator,steps_per_epoch=20,epochs=2,validation_data=val_generator,validation_steps=1)"
      ],
      "execution_count": 0,
      "outputs": [
        {
          "output_type": "stream",
          "text": [
            "Epoch 1/2\n",
            "19/20 [===========================>..] - ETA: 0s - loss: 0.2172 - acc: 0.9316"
          ],
          "name": "stdout"
        },
        {
          "output_type": "stream",
          "text": [
            "/usr/local/lib/python3.6/dist-packages/keras_preprocessing/image/image_data_generator.py:699: UserWarning: This ImageDataGenerator specifies `featurewise_center`, but it hasn't been fit on any training data. Fit it first by calling `.fit(numpy_data)`.\n",
            "  warnings.warn('This ImageDataGenerator specifies '\n"
          ],
          "name": "stderr"
        },
        {
          "output_type": "stream",
          "text": [
            "7/7 [==============================] - 1s 160ms/step - loss: 0.2364 - acc: 0.9000\n",
            "20/20 [==============================] - 4s 188ms/step - loss: 0.2136 - acc: 0.9350 - val_loss: 0.2364 - val_acc: 0.9000\n",
            "Epoch 2/2\n",
            "7/7 [==============================] - 1s 155ms/step - loss: 0.1541 - acc: 0.9400\n",
            "20/20 [==============================] - 3s 165ms/step - loss: 0.1446 - acc: 0.9550 - val_loss: 0.1541 - val_acc: 0.9400\n"
          ],
          "name": "stdout"
        }
      ]
    }
  ]
}